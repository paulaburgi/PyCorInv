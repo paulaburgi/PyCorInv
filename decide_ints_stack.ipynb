{
 "cells": [
  {
   "cell_type": "code",
   "execution_count": null,
   "metadata": {},
   "outputs": [],
   "source": [
    "#### NOTE ####\n",
    "# THIS NOTEBOOK ONLY WORKS WHEN RUN FROM OTHER NOTEBOOKS THAT HAVE PRE-DEFINED SEVERAL OTHER VARIABLES, E.G.: \n",
    "# 02-cor-inversion, 03-geocode_looks_all, plot_inv_results"
   ]
  },
  {
   "cell_type": "code",
   "execution_count": 10,
   "metadata": {},
   "outputs": [],
   "source": [
    "import numpy as np"
   ]
  },
  {
   "cell_type": "code",
   "execution_count": 11,
   "metadata": {},
   "outputs": [],
   "source": [
    "# functions\n",
    "def decidepol(poli):\n",
    "    if poli == '_VV':\n",
    "        pol = '_VV'\n",
    "    else:\n",
    "        pol = '_VH'\n",
    "    return pol\n",
    "\n",
    "def decideproject(paramspny): \n",
    "    params = np.load(paramsnpy).item()\n",
    "    return params\n",
    "    "
   ]
  },
  {
   "cell_type": "code",
   "execution_count": 1,
   "metadata": {},
   "outputs": [
    {
     "ename": "NameError",
     "evalue": "name 'decidepol' is not defined",
     "output_type": "error",
     "traceback": [
      "\u001b[0;31m---------------------------------------------------------------------------\u001b[0m",
      "\u001b[0;31mNameError\u001b[0m                                 Traceback (most recent call last)",
      "\u001b[0;32m<ipython-input-1-6ce96130749f>\u001b[0m in \u001b[0;36m<module>\u001b[0;34m()\u001b[0m\n\u001b[1;32m      1\u001b[0m \u001b[0;31m# run cell if you working in this notebook, but not if running from another notebook\u001b[0m\u001b[0;34m\u001b[0m\u001b[0;34m\u001b[0m\u001b[0;34m\u001b[0m\u001b[0m\n\u001b[1;32m      2\u001b[0m \u001b[0;31m# poli='_VV'\u001b[0m\u001b[0;34m\u001b[0m\u001b[0;34m\u001b[0m\u001b[0;34m\u001b[0m\u001b[0m\n\u001b[0;32m----> 3\u001b[0;31m \u001b[0mpol\u001b[0m \u001b[0;34m=\u001b[0m \u001b[0mdecidepol\u001b[0m\u001b[0;34m(\u001b[0m\u001b[0mpoli\u001b[0m\u001b[0;34m)\u001b[0m\u001b[0;34m\u001b[0m\u001b[0;34m\u001b[0m\u001b[0m\n\u001b[0m\u001b[1;32m      4\u001b[0m \u001b[0;34m\u001b[0m\u001b[0m\n\u001b[1;32m      5\u001b[0m \u001b[0;31m# params = np.load('/data/pmb229/isce/corinv-testdata/slcs/params.npy').item()\u001b[0m\u001b[0;34m\u001b[0m\u001b[0;34m\u001b[0m\u001b[0;34m\u001b[0m\u001b[0m\n",
      "\u001b[0;31mNameError\u001b[0m: name 'decidepol' is not defined"
     ]
    }
   ],
   "source": [
    "%%capture\n",
    "# uncomment above line if you would like the 'params' dictionary printed to the screen.\n",
    "\n",
    "pol    = decidepol(poli)\n",
    "params = decideproject(paramsnpy)\n",
    "locals().update(params)\n",
    "\n",
    "\n",
    "newnx  = int(newnx)\n",
    "newny  = int(newny)\n",
    "nx     = int(nx)\n",
    "ny     = int(ny)\n",
    "\n",
    "if pol == '_VV': \n",
    "    slcdir = slcdir_vv\n",
    "else: \n",
    "    slcdir = slcdir_vh\n",
    "        \n",
    "print(params)"
   ]
  },
  {
   "cell_type": "code",
   "execution_count": 13,
   "metadata": {},
   "outputs": [
    {
     "name": "stdout",
     "output_type": "stream",
     "text": [
      "68116\n"
     ]
    }
   ],
   "source": [
    "\n",
    "filenames = list()\n",
    "for f in dates: \n",
    "    fn = slcdir+f+'/'+f+'.slc.full'\n",
    "    filenames.append(fn)\n"
   ]
  },
  {
   "cell_type": "code",
   "execution_count": 5,
   "metadata": {},
   "outputs": [
    {
     "ename": "NameError",
     "evalue": "name 'dn' is not defined",
     "output_type": "error",
     "traceback": [
      "\u001b[0;31m---------------------------------------------------------------------------\u001b[0m",
      "\u001b[0;31mNameError\u001b[0m                                 Traceback (most recent call last)",
      "\u001b[0;32m<ipython-input-5-1a14a02e0502>\u001b[0m in \u001b[0;36m<module>\u001b[0;34m()\u001b[0m\n\u001b[1;32m      1\u001b[0m \u001b[0mid1\u001b[0m \u001b[0;34m=\u001b[0m \u001b[0mlist\u001b[0m\u001b[0;34m(\u001b[0m\u001b[0;34m)\u001b[0m\u001b[0;34m\u001b[0m\u001b[0;34m\u001b[0m\u001b[0m\n\u001b[1;32m      2\u001b[0m \u001b[0mid2\u001b[0m \u001b[0;34m=\u001b[0m \u001b[0mlist\u001b[0m\u001b[0;34m(\u001b[0m\u001b[0;34m)\u001b[0m\u001b[0;34m\u001b[0m\u001b[0;34m\u001b[0m\u001b[0m\n\u001b[0;32m----> 3\u001b[0;31m \u001b[0;32mfor\u001b[0m \u001b[0mi\u001b[0m \u001b[0;32min\u001b[0m \u001b[0mrange\u001b[0m\u001b[0;34m(\u001b[0m\u001b[0mlen\u001b[0m\u001b[0;34m(\u001b[0m\u001b[0mdn\u001b[0m\u001b[0;34m)\u001b[0m\u001b[0;34m)\u001b[0m\u001b[0;34m:\u001b[0m\u001b[0;34m\u001b[0m\u001b[0;34m\u001b[0m\u001b[0m\n\u001b[0m\u001b[1;32m      4\u001b[0m     \u001b[0;32mfor\u001b[0m \u001b[0mj\u001b[0m \u001b[0;32min\u001b[0m \u001b[0mrange\u001b[0m\u001b[0;34m(\u001b[0m\u001b[0mi\u001b[0m\u001b[0;34m,\u001b[0m\u001b[0mlen\u001b[0m\u001b[0;34m(\u001b[0m\u001b[0mdn\u001b[0m\u001b[0;34m)\u001b[0m\u001b[0;34m)\u001b[0m\u001b[0;34m:\u001b[0m\u001b[0;34m\u001b[0m\u001b[0;34m\u001b[0m\u001b[0m\n\u001b[1;32m      5\u001b[0m         \u001b[0;32mif\u001b[0m \u001b[0;34m[\u001b[0m\u001b[0mj\u001b[0m\u001b[0;34m]\u001b[0m \u001b[0;34m==\u001b[0m \u001b[0;34m[\u001b[0m\u001b[0mi\u001b[0m\u001b[0;34m]\u001b[0m\u001b[0;34m:\u001b[0m\u001b[0;34m\u001b[0m\u001b[0;34m\u001b[0m\u001b[0m\n",
      "\u001b[0;31mNameError\u001b[0m: name 'dn' is not defined"
     ]
    }
   ],
   "source": [
    "id1 = list()\n",
    "id2 = list()\n",
    "for i in range(len(dn)):\n",
    "    for j in range(i,len(dn)):\n",
    "        if [j] == [i]:\n",
    "            pass\n",
    "        else:\n",
    "            id1.append(i)\n",
    "            id2.append(j)\n",
    "\n",
    "ids = tuple(zip(id1,id2))\n",
    "\n",
    "# get diags\n",
    "id2_2 = [i-1 for i in id2]\n",
    "id1e = enumerate(id1)\n",
    "id2e = enumerate(id2_2)\n",
    "diags=list()\n",
    "for i,j in zip(id1e, id2e): \n",
    "    if i == j:\n",
    "        diags.append(i[0])\n",
    "\n",
    "ni     = len(id1);\n",
    "\n",
    "dn1 = [dn[i] for i in id1]\n",
    "dn2 = [dn[i] for i in id2]\n",
    "intdt = np.diff(dn)\n",
    "\n",
    "alooks = alks\n",
    "rlooks = rlks\n",
    "n      = rlooks*alooks;"
   ]
  }
 ],
 "metadata": {
  "kernelspec": {
   "display_name": "Python 3",
   "language": "python",
   "name": "python3"
  },
  "language_info": {
   "codemirror_mode": {
    "name": "ipython",
    "version": 3
   },
   "file_extension": ".py",
   "mimetype": "text/x-python",
   "name": "python",
   "nbconvert_exporter": "python",
   "pygments_lexer": "ipython3",
   "version": "3.6.7"
  }
 },
 "nbformat": 4,
 "nbformat_minor": 2
}
