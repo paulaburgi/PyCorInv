{
 "cells": [
  {
   "cell_type": "markdown",
   "metadata": {},
   "source": [
    "# Prior to running this code: \n",
    "\n",
    "\n",
    "### -Download Sentinel-1 data from, e.g., ASF Vertex\n",
    "\n",
    "\n",
    "\n",
    "\n",
    "### -Download DEM, e.g.: \n",
    "\n",
    "    dem.py -a download -c -b 18 21 54 57  -r -s 3\n",
    "    \n",
    "    dem.py -a stitch -b 18 21 54 57  -r -s 3 -l -k -c\n",
    "    \n",
    "    fixImageXml.py -i demLat_N18_N21_Lon_E054_E057.dem.wgs84 -f\n",
    "\n",
    "\n",
    "\n",
    "\n",
    "### -Run ISCE to co-register SLCs, e.g.: \n",
    "\n",
    "    stackSentinel.py -s ./data -o ./isce/precise/ -a ./isce/aux_cal/ -w ./slcs/ -d ./dem/demLat_N18_N21_Lon_E054_E057.dem.wgs84 -c 1 -n '1' -O 1 -m 20180502 -b '19.19 19.20 55.39 55.4' -r 1 -z 1 -W slc\n",
    " \n",
    "     \n",
    "  \n",
    " \n",
    "### -Run all files in run_files directory: \n",
    "\n",
    "    chmod 777 run_files/* \n",
    "    \n",
    "    create executable file \"run_run_files\", with ./run_1_unpack_slc_topo_master; ./run_2_average_baseline... \n",
    "    \n",
    "    run: ./run_run_files\n",
    "    \n",
    "    \n",
    "### - Re-run ISCE for VH \n",
    "\n",
    "    run \"doVH.pl\" in workdir \n",
    "    \n",
    "    chmod 777 run_files_vh/* \n",
    "    \n",
    "    create executable file \"run_run_files_vh\", with ./run_1_unpack_slc_topo_master; ./run_7_geo2rdr_resample... \n",
    "    \n",
    "    run: ./run_run_files_vh\n",
    "    \n",
    "    WHEN FINISHED, run: mv merged/SLC merged/SLC_VH"
   ]
  },
  {
   "cell_type": "code",
   "execution_count": 1,
   "metadata": {},
   "outputs": [],
   "source": [
    "import os\n",
    "import glob\n",
    "import xml.etree.ElementTree as ET\n",
    "from datetime import date\n",
    "import numpy as np"
   ]
  },
  {
   "cell_type": "code",
   "execution_count": 2,
   "metadata": {},
   "outputs": [
    {
     "name": "stdout",
     "output_type": "stream",
     "text": [
      "changing dirctory to: /data/pmb229/isce/Somalia/T145/\n"
     ]
    }
   ],
   "source": [
    "#### INPUTS #### \n",
    "\n",
    "# Example inputs:\n",
    "# Sentinel-1 T145\n",
    "workdir   = '/data/pmb229/isce/Somalia/T145/'\n",
    "dempath   = workdir+'dem/demLat_N08_N11_Lon_E046_E050.dem.wgs84'\n",
    "mergeddir = workdir + 'merged/'\n",
    "slcdir_vv = workdir + 'merged/' + 'SLC_VV/'\n",
    "slcdir_vh = workdir + 'merged/' + 'SLC_VH/'\n",
    "lam       = 0.056 # wavelength of sentinel c-band data\n",
    "\n",
    "\n",
    "print('changing dirctory to: '+workdir)\n",
    "wd     = os.getcwd()\n",
    "os.chdir(workdir)"
   ]
  },
  {
   "cell_type": "code",
   "execution_count": 3,
   "metadata": {},
   "outputs": [],
   "source": [
    "#### Define date variables ####\n",
    "\n",
    "flist = glob.glob(slcdir_vv + '2*')\n",
    "flist = sorted(flist, key=lambda i: int(os.path.splitext(os.path.basename(i))[0]))\n",
    "nd = len(flist)\n",
    "\n",
    "dates = list()\n",
    "\n",
    "for f in flist:\n",
    "    dates.append(f[-8:]) \n",
    "\n",
    "dn = list()  \n",
    "dec_year = list()\n",
    "for d in dates:\n",
    "    yr = d[0:4]\n",
    "    mo = d[4:6]\n",
    "    day = d[6:8]\n",
    "    dt = date.toordinal(date(int(yr), int(mo), int(day)))\n",
    "    dn.append(dt)\n",
    "    d0 = date.toordinal(date(int(yr), 1, 1))\n",
    "    doy = np.asarray(dt)-d0+1\n",
    "    dec_year.append(float(yr) + (doy/365.25))\n",
    "dn = np.asarray(dn)\n",
    "dn0 = dn-dn[0] # make relative to first date\n"
   ]
  },
  {
   "cell_type": "code",
   "execution_count": 4,
   "metadata": {},
   "outputs": [],
   "source": [
    "#### Define track number #### \n",
    "\n",
    "# get first IW1 xml file \n",
    "flist = glob.glob(workdir + 'stack/' + 'IW*xml')\n",
    "# this will sort only if the final thing from int(...) is a number. so int(...[0]) gives 'IW1', and int(../[0[2]]) gives '1'\n",
    "flist = sorted(flist, key=lambda i: int(os.path.splitext(os.path.basename(i))[0][2]))\n",
    "\n",
    "\n",
    "iw1 = flist[0]\n",
    "# load it\n",
    "tree = ET.parse(iw1) \n",
    "root = tree.getroot()\n",
    "# turn it into a string\n",
    "xmlstr = ET.tostring(root, encoding='utf8', method='xml')\n",
    "xmlstr = str(xmlstr) \n",
    "# search string for track number\n",
    "tnidx = xmlstr.find('tracknumber')\n",
    "xmlstr2 = xmlstr[tnidx+36:tnidx+60]\n",
    "tnidx2 =  xmlstr2.find('>')\n",
    "tnidx3 =  xmlstr2.find('<')\n",
    "# get track number\n",
    "tracknum = xmlstr2[tnidx2+1:tnidx3]\n",
    "\n"
   ]
  },
  {
   "cell_type": "code",
   "execution_count": 5,
   "metadata": {},
   "outputs": [],
   "source": [
    "#### Define nx, ny #### \n",
    "\n",
    "# get first IW1 xml file \n",
    "flist = glob.glob(workdir + 'merged/geom_master/' + 'lon.rdr.hdr')\n",
    "\n",
    "iw1 = flist[0]\n",
    "# load it\n",
    "hdrfile = open(iw1, 'r')\n",
    "hdrfile = hdrfile.readlines()\n",
    "samples = hdrfile[1]\n",
    "nx  = samples[10:-1]\n",
    "lines = hdrfile[2]\n",
    "ny = lines[10:-1]\n",
    "\n",
    "# define newnx, newny\n",
    "alks = 4\n",
    "rlks = 15\n",
    "newnx = str(int(float(nx)/rlks))\n",
    "newny = str(int(float(ny)/alks))\n"
   ]
  },
  {
   "cell_type": "code",
   "execution_count": 6,
   "metadata": {},
   "outputs": [],
   "source": [
    "#### Retrieve baselines #### \n",
    "\n",
    "flist = glob.glob(workdir + 'baselines/' + '2*_2*/')\n",
    "flist = sorted(flist, key=os.path.dirname)\n",
    "\n",
    "\n",
    "bpmean = list()\n",
    "bpmean.append(float(0))\n",
    "for f in flist:\n",
    "    fn     = os.listdir(f)\n",
    "    ffn    = str(f+fn[0])\n",
    "    bltxt  = open(ffn, 'r')\n",
    "    bllns  = bltxt.readlines()\n",
    "    sidx = list()\n",
    "    for f2 in bllns: \n",
    "        sid = 'Bperp' in f2\n",
    "        sidx.append(sid)\n",
    "    bptxt = [d for (d, remove) in zip(bllns, sidx) if remove]\n",
    "    bpall = list()\n",
    "    for f2 in bptxt: \n",
    "        bpall.append(float(f2[16:-1]))\n",
    "    bpmean.append(np.mean(bpall))  \n",
    "    \n"
   ]
  },
  {
   "cell_type": "code",
   "execution_count": 7,
   "metadata": {},
   "outputs": [],
   "source": [
    "#### Define and write params.npy ####\n",
    "\n",
    "params = dict()\n",
    "params['dates'] =        dates\n",
    "params['dn'] =           dn\n",
    "params['dn0'] =          dn0\n",
    "params['nd'] =           nd\n",
    "params['lam'] =          lam\n",
    "params['alks'] =         alks\n",
    "params['rlks'] =         rlks\n",
    "params['ny'] =           ny\n",
    "params['nx'] =           nx\n",
    "params['newnx'] =        newnx\n",
    "params['newny'] =        newny\n",
    "params['dempath']   =    dempath\n",
    "params['workdir'] =      workdir\n",
    "params['mergeddir'] =    mergeddir\n",
    "params['slcdir_vv'] =    slcdir_vv\n",
    "params['slcdir_vh'] =    slcdir_vh\n",
    "params['baselines'] =    bpmean\n",
    "\n",
    "# Save the dictionary\n",
    "np.save('params.npy',params)"
   ]
  },
  {
   "cell_type": "code",
   "execution_count": 8,
   "metadata": {},
   "outputs": [],
   "source": [
    "#### Finally, make sure to fix xmls of all SLCs ####\n",
    "for i in dates:\n",
    "    f = slcdir_vv+i+'/'+i+'.slc.full.xml'\n",
    "    ! fixImageXml.py -i $f -f  \n",
    "for i in dates:\n",
    "    f = slcdir_vh+i+'/'+i+'.slc.full.xml'\n",
    "    ! fixImageXml.py -i $f -f  "
   ]
  },
  {
   "cell_type": "code",
   "execution_count": null,
   "metadata": {},
   "outputs": [],
   "source": [
    "os.chdir(wd)"
   ]
  },
  {
   "cell_type": "code",
   "execution_count": null,
   "metadata": {},
   "outputs": [],
   "source": []
  },
  {
   "cell_type": "code",
   "execution_count": null,
   "metadata": {},
   "outputs": [],
   "source": []
  }
 ],
 "metadata": {
  "kernelspec": {
   "display_name": "Python 3",
   "language": "python",
   "name": "python3"
  },
  "language_info": {
   "codemirror_mode": {
    "name": "ipython",
    "version": 3
   },
   "file_extension": ".py",
   "mimetype": "text/x-python",
   "name": "python",
   "nbconvert_exporter": "python",
   "pygments_lexer": "ipython3",
   "version": "3.6.7"
  }
 },
 "nbformat": 4,
 "nbformat_minor": 2
}
